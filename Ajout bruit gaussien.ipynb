{
 "cells": [
  {
   "cell_type": "markdown",
   "metadata": {},
   "source": [
    "Les imports"
   ]
  },
  {
   "cell_type": "code",
   "execution_count": 1,
   "metadata": {},
   "outputs": [],
   "source": [
    "import numpy as np\n",
    "import matplotlib.pyplot as plt\n",
    "import torch\n",
    "import torchvision\n",
    "import torchvision.transforms as transforms\n",
    "import random\n",
    "import time\n",
    "from PIL import Image\n",
    "from IPython.display import display, clear_output\n"
   ]
  },
  {
   "cell_type": "code",
   "execution_count": 2,
   "metadata": {},
   "outputs": [
    {
     "name": "stdout",
     "output_type": "stream",
     "text": [
      "Files already downloaded and verified\n",
      "Files already downloaded and verified\n"
     ]
    }
   ],
   "source": [
    "# Définir les transformations pour les données\n",
    "transform = transforms.Compose(\n",
    "    [transforms.ToTensor(),\n",
    "     transforms.Normalize((0.5, 0.5, 0.5), (0.5, 0.5, 0.5))])\n",
    "\n",
    "# Télécharger et charger les ensembles de données CIFAR-10\n",
    "trainset = torchvision.datasets.CIFAR10(root='./data', train=True, download=True, transform=transform)\n",
    "trainloader = torch.utils.data.DataLoader(trainset, batch_size=1, shuffle=True, num_workers=2)\n",
    "\n",
    "testset = torchvision.datasets.CIFAR10(root='./data', train=False, download=True, transform=transform)\n",
    "testloader = torch.utils.data.DataLoader(testset, batch_size=1, shuffle=False, num_workers=2)\n",
    "\n",
    "#os.system(\"rundll32.exe powrprof.dll,SetSuspendState 0,1,0\")\n",
    "classes = ('plane', 'car', 'bird', 'cat', 'deer', 'dog', 'frog', 'horse', 'ship', 'truck')\n",
    "\n",
    "# Fonction pour afficher une image\n",
    "def imshow(img):\n",
    "    img = img / 2 + 0.5  # dénormaliser\n",
    "    npimg = img.numpy()\n",
    "    plt.imshow(np.transpose(npimg, (1, 2, 0)))\n",
    "    plt.show()"
   ]
  },
  {
   "cell_type": "code",
   "execution_count": 47,
   "metadata": {},
   "outputs": [],
   "source": [
    "def ajout_bruit_gaussien(img,b) :\n",
    "    img = np.array(img)\n",
    "    bruit = np.random.normal(0, b, img.shape)\n",
    "    img = img*np.sqrt(1-b) + bruit\n",
    "    img = np.clip(img, 0, 255)\n",
    "    return Image.fromarray(img.astype(np.uint8))\n",
    "def ajout_bruit_gaussien_n(img,b,n):\n",
    "    a = [1 - b(i) for i in range(n)]\n",
    "    a_ = 1\n",
    "    for i in a:\n",
    "        a_ *= i\n",
    "    img = np.array(img)\n",
    "    bruit = np.random.normal(0, (1 - a_)*255 , img.shape)\n",
    "    img = img * np.sqrt(a_) + bruit\n",
    "    img = np.clip(img, 0, 255)\n",
    "    return Image.fromarray(img.astype(np.uint8))"
   ]
  },
  {
   "cell_type": "code",
   "execution_count": 5,
   "metadata": {},
   "outputs": [
    {
     "data": {
      "text/plain": [
       "'# Initialiser la figure\\nplt.ion()\\nfig = plt.figure()'"
      ]
     },
     "execution_count": 5,
     "metadata": {},
     "output_type": "execute_result"
    }
   ],
   "source": [
    "# Obtenir une image de formation aléatoire\n",
    "dataiter = iter(trainloader)\n",
    "images, labels = next(dataiter)\n",
    "\n",
    "# Convertir l'image en PIL\n",
    "\n",
    "\n",
    "\"\"\"# Initialiser la figure\n",
    "plt.ion()\n",
    "fig = plt.figure()\"\"\"\n"
   ]
  },
  {
   "cell_type": "code",
   "execution_count": 89,
   "metadata": {},
   "outputs": [
    {
     "data": {
      "image/png": "[encoded data removed]",
      "text/plain": [
       "<Figure size 640x480 with 1 Axes>"
      ]
     },
     "metadata": {},
     "output_type": "display_data"
    }
   ],
   "source": [
    "img = images[0]\n",
    "image = transforms.ToPILImage()(img / 2 + 0.5)\n",
    "imshow(img)"
   ]
  },
  {
   "cell_type": "code",
   "execution_count": null,
   "metadata": {},
   "outputs": [
    {
     "data": {
      "image/png": "[encoded data removed]",
      "text/plain": [
       "<Figure size 640x480 with 1 Axes>"
      ]
     },
     "metadata": {},
     "output_type": "display_data"
    },
    {
     "name": "stdout",
     "output_type": "stream",
     "text": [
      "99\n"
     ]
    }
   ],
   "source": [
    "img = images[0]\n",
    "image = transforms.ToPILImage()(img / 2 + 0.5)\n",
    "image_b = image.copy()\n",
    "def b(x):\n",
    "    l = np.linspace(0.001,0.1,100)\n",
    "    #e = 0.1/(np.exp(-x/100)+1)\n",
    "    return l[x]\n",
    "for i in range(100):\n",
    "    if i%1==0:\n",
    "        # Effacer la sortie précédente\n",
    "        clear_output(wait=True)\n",
    "        # Afficher l'image\n",
    "        npimg = np.array(image_b)\n",
    "        \n",
    "        plt.imshow(npimg)\n",
    "        plt.axis('off')\n",
    "        plt.show()\n",
    "        print(i)\n",
    "    #time.sleep(0.05)\n",
    "    image_b = ajout_bruit_gaussien_n(image,b,i)"
   ]
  }
 ],
 "metadata": {
  "kernelspec": {
   "display_name": "Python 3",
   "language": "python",
   "name": "python3"
  },
  "language_info": {
   "codemirror_mode": {
    "name": "ipython",
    "version": 3
   },
   "file_extension": ".py",
   "mimetype": "text/x-python",
   "name": "python",
   "nbconvert_exporter": "python",
   "pygments_lexer": "ipython3",
   "version": "3.11.5"
  }
 },
 "nbformat": 4,
 "nbformat_minor": 2
}
